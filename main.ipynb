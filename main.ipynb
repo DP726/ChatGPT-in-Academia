{
 "cells": [
  {
   "cell_type": "code",
   "execution_count": 327,
   "metadata": {},
   "outputs": [],
   "source": [
    "#importing all the libraries\n",
    "import matplotlib.pyplot as plt\n",
    "import pandas as pd\n",
    "import numpy as np"
   ]
  },
  {
   "cell_type": "code",
   "execution_count": 328,
   "metadata": {},
   "outputs": [],
   "source": [
    "#reading the csv file \n",
    "data = pd.read_csv('CPS412_Responses.csv')"
   ]
  },
  {
   "cell_type": "code",
   "execution_count": 329,
   "metadata": {},
   "outputs": [],
   "source": [
    "#collecting the data in the following column and storing in question_1 variable does the same for the other 10 questions\n",
    "question_1 = data[\"What type of degree are you currently pursuing?\"]"
   ]
  },
  {
   "cell_type": "code",
   "execution_count": 330,
   "metadata": {},
   "outputs": [],
   "source": [
    "question_2 = data[\"What faculty is your program in? (Pick the option that closest resembles your program if the actual faculty is not listed)\"]"
   ]
  },
  {
   "cell_type": "code",
   "execution_count": 331,
   "metadata": {},
   "outputs": [],
   "source": [
    "question_3 = data[\"What is your current age?\"]"
   ]
  },
  {
   "cell_type": "code",
   "execution_count": 332,
   "metadata": {},
   "outputs": [],
   "source": [
    "question_4 = data[\"What is your current GPA percentage?\"]"
   ]
  },
  {
   "cell_type": "code",
   "execution_count": 333,
   "metadata": {},
   "outputs": [],
   "source": [
    "question_5 = data[\"What is your status as a student?\"]"
   ]
  },
  {
   "cell_type": "code",
   "execution_count": 334,
   "metadata": {},
   "outputs": [],
   "source": [
    "question_6 = data[\"Have you used ChatGPT yet?\"]"
   ]
  },
  {
   "cell_type": "code",
   "execution_count": 335,
   "metadata": {},
   "outputs": [],
   "source": [
    "question_7 = data[\"Do you think the availability of ChatGPT will negatively impact newer generations?\"]"
   ]
  },
  {
   "cell_type": "code",
   "execution_count": 336,
   "metadata": {},
   "outputs": [],
   "source": [
    "question_8 = data[\"Do you think ChatGPT can be used as a reliable source of information?\"]"
   ]
  },
  {
   "cell_type": "code",
   "execution_count": 337,
   "metadata": {},
   "outputs": [],
   "source": [
    "question_9 = data[\"In which situations should students be allowed to use ChatGPT?\"]"
   ]
  },
  {
   "cell_type": "code",
   "execution_count": 338,
   "metadata": {},
   "outputs": [],
   "source": [
    "question_10 = data[\"Would using ChatGPT be considered as plagiarism?\"]\n"
   ]
  },
  {
   "cell_type": "code",
   "execution_count": 339,
   "metadata": {},
   "outputs": [],
   "source": [
    "question_11 = data[\"Do you think using ChatGPT will increase your academic performance (if the use of ChatGPT is allowed)?\"]"
   ]
  },
  {
   "cell_type": "code",
   "execution_count": 340,
   "metadata": {},
   "outputs": [
    {
     "name": "stdout",
     "output_type": "stream",
     "text": [
      "28\n"
     ]
    }
   ],
   "source": [
    "#comparing data for faculty vs use of chatgpt\n",
    "\n",
    "#setting counter fos to 0\n",
    "fos = 0\n",
    "#looping through the column question_2\n",
    "for i in range (0, len(question_2)):\n",
    "    #if the student is in faculty of science and have used chatgpt increase counter\n",
    "    if (question_2[i] == \"Faculty of Science\") and (question_6[i] == \"Yes - I have used ChatGPT\"):\n",
    "        #increasing counter\n",
    "        fos += 1\n",
    "print(fos)"
   ]
  },
  {
   "cell_type": "code",
   "execution_count": 341,
   "metadata": {},
   "outputs": [
    {
     "name": "stdout",
     "output_type": "stream",
     "text": [
      "0\n"
     ]
    }
   ],
   "source": [
    "#does the same as above but for faculty of law\n",
    "fol = 0\n",
    "for i in range (0, len(question_2)):\n",
    "    if (question_2[i] == \"Faculty of Law\") and (question_6[i] == \"Yes - I have used ChatGPT\"):\n",
    "        fol += 1\n",
    "print(fol)"
   ]
  },
  {
   "cell_type": "code",
   "execution_count": 342,
   "metadata": {},
   "outputs": [
    {
     "name": "stdout",
     "output_type": "stream",
     "text": [
      "10\n"
     ]
    }
   ],
   "source": [
    "#does the same as above but for faculty of business studies\n",
    "fobs = 0\n",
    "for i in range (0, len(question_2)):\n",
    "    if (question_2[i] == \"Faculty of Business Studies\") and (question_6[i] == \"Yes - I have used ChatGPT\"):\n",
    "        fobs += 1\n",
    "print(fobs)"
   ]
  },
  {
   "cell_type": "code",
   "execution_count": 343,
   "metadata": {},
   "outputs": [
    {
     "name": "stdout",
     "output_type": "stream",
     "text": [
      "3\n"
     ]
    }
   ],
   "source": [
    "#does the same as above for athletics\n",
    "ath = 0\n",
    "for i in range (0, len(question_2)):\n",
    "    if (question_2[i] == \"Athletics\") and (question_6[i] == \"Yes - I have used ChatGPT\"):\n",
    "        ath += 1\n",
    "print(ath)"
   ]
  },
  {
   "cell_type": "code",
   "execution_count": 344,
   "metadata": {},
   "outputs": [
    {
     "name": "stdout",
     "output_type": "stream",
     "text": [
      "15\n"
     ]
    }
   ],
   "source": [
    "#does the same as above but for faculty of eng\n",
    "foe = 0\n",
    "for i in range (0, len(question_2)):\n",
    "    if (question_2[i] == \"Faculty of Engineering\") and (question_6[i] == \"Yes - I have used ChatGPT\"):\n",
    "        foe += 1\n",
    "print(foe)"
   ]
  },
  {
   "cell_type": "code",
   "execution_count": 345,
   "metadata": {},
   "outputs": [
    {
     "name": "stdout",
     "output_type": "stream",
     "text": [
      "5\n"
     ]
    }
   ],
   "source": [
    "#does the same as above but for faculty of arts\n",
    "foa = 0\n",
    "for i in range (0, len(question_2)):\n",
    "    if (question_2[i] == \"Faculty of Arts\") and (question_6[i] == \"Yes - I have used ChatGPT\"):\n",
    "        foa += 1\n",
    "print(foa)"
   ]
  },
  {
   "cell_type": "code",
   "execution_count": 346,
   "metadata": {},
   "outputs": [
    {
     "name": "stdout",
     "output_type": "stream",
     "text": [
      "2\n"
     ]
    }
   ],
   "source": [
    "#does the same as above but for faculty of health sciences\n",
    "fohs = 0\n",
    "for i in range (0, len(question_2)):\n",
    "    if (question_2[i] == \"Faculty of Health Sciences\") and (question_6[i] == \"Yes - I have used ChatGPT\"):\n",
    "        fohs += 1\n",
    "print(fohs)"
   ]
  },
  {
   "cell_type": "code",
   "execution_count": 347,
   "metadata": {},
   "outputs": [
    {
     "data": {
      "image/png": "[encoded data removed]",
      "text/plain": [
       "<Figure size 432x288 with 1 Axes>"
      ]
     },
     "metadata": {
      "needs_background": "light"
     },
     "output_type": "display_data"
    }
   ],
   "source": [
    "#setting the variable fig to the plot figure\n",
    "fig = plt.figure()\n",
    "\n",
    "#adding axes to the figure\n",
    "ax = fig.add_axes([0,0,1,1])\n",
    "\n",
    "#labels for the x axie\n",
    "responses = ['Science', 'Law', 'Business','Athletics','Engineering', 'Arts', 'Health Sciences']\n",
    "\n",
    "#adding the number for each of the bars by the data retrieved above\n",
    "rnumber = [fos,fol,fobs,ath,foe,foa,fohs]\n",
    "\n",
    "#setting the bar equal to the two variables\n",
    "ax.bar(responses,rnumber)\n",
    "\n",
    "#setting y label\n",
    "ax.set_ylabel('Number of Students That Have Used Chat GPT')\n",
    "\n",
    "#setting x label\n",
    "ax.set_xlabel('Faculty')\n",
    "\n",
    "#set title\n",
    "ax.set_title(\"Student Using ChatGPT in Each Faculty\")\n",
    "\n",
    "#plot show\n",
    "plt.show()"
   ]
  },
  {
   "cell_type": "code",
   "execution_count": 392,
   "metadata": {},
   "outputs": [
    {
     "name": "stdout",
     "output_type": "stream",
     "text": [
      "20\n"
     ]
    }
   ],
   "source": [
    "#student grade vs chaptGpt shouldn't be allowed\n",
    "\n",
    "#setting variable equal to 0\n",
    "op1 = 0\n",
    "\n",
    "#loop iterating through the column g4\n",
    "for i in range(0, len(question_4)):\n",
    "    \n",
    "    #if student is in the grade range and believes chatgpt will increase their academic performance increase the counter\n",
    "    if question_4[i] == \"80% - 89%\" and question_11[i] == \"Yes - ChatGPT will increase my academic performance\":\n",
    "        op1 += 1\n",
    "print(op1)"
   ]
  },
  {
   "cell_type": "code",
   "execution_count": 393,
   "metadata": {},
   "outputs": [
    {
     "name": "stdout",
     "output_type": "stream",
     "text": [
      "14\n"
     ]
    }
   ],
   "source": [
    "#same as above but for different grade range\n",
    "op2 = 0\n",
    "for i in range(0, len(question_4)):\n",
    "    if question_4[i] == \"90% - 100%\" and question_11[i] == \"Yes - ChatGPT will increase my academic performance\":\n",
    "        op2 += 1\n",
    "print(op2)"
   ]
  },
  {
   "cell_type": "code",
   "execution_count": 394,
   "metadata": {},
   "outputs": [
    {
     "name": "stdout",
     "output_type": "stream",
     "text": [
      "20\n"
     ]
    }
   ],
   "source": [
    "#same as above but for different grade range\n",
    "op3 = 0\n",
    "for i in range(0, len(question_4)):\n",
    "    if question_4[i] == \"70% - 79%\" and question_11[i] == \"Yes - ChatGPT will increase my academic performance\":\n",
    "        op3 += 1\n",
    "print(op3)"
   ]
  },
  {
   "cell_type": "code",
   "execution_count": 395,
   "metadata": {},
   "outputs": [
    {
     "name": "stdout",
     "output_type": "stream",
     "text": [
      "4\n"
     ]
    }
   ],
   "source": [
    "#same as above but for a different grade range\n",
    "op4 = 0\n",
    "for i in range(0, len(question_4)):\n",
    "    if question_4[i] == \"60% - 69%\" and question_11[i] == \"Yes - ChatGPT will increase my academic performance\":\n",
    "        op4 += 1\n",
    "print(op4)"
   ]
  },
  {
   "cell_type": "code",
   "execution_count": 396,
   "metadata": {},
   "outputs": [
    {
     "name": "stdout",
     "output_type": "stream",
     "text": [
      "4\n"
     ]
    }
   ],
   "source": [
    "#same as above but for a different grade range\n",
    "op5 = 0\n",
    "for i in range(0, len(question_4)):\n",
    "    if question_4[i] == \"50% - 59%\" and question_11[i] == \"Yes - ChatGPT will increase my academic performance\":\n",
    "        op5 += 1\n",
    "print(op5)"
   ]
  },
  {
   "cell_type": "code",
   "execution_count": 397,
   "metadata": {},
   "outputs": [
    {
     "name": "stdout",
     "output_type": "stream",
     "text": [
      "2\n"
     ]
    }
   ],
   "source": [
    "#same as above but for a different grade range\n",
    "op6 = 0\n",
    "for i in range(0, len(question_4)):\n",
    "    if question_4[i] == \"Under 50%\" and question_11[i] == \"Yes - ChatGPT will increase my academic performance\":\n",
    "        op6 += 1\n",
    "print(op6)"
   ]
  },
  {
   "cell_type": "code",
   "execution_count": 398,
   "metadata": {},
   "outputs": [
    {
     "data": {
      "image/png": "[encoded data removed]",
      "text/plain": [
       "<Figure size 432x288 with 1 Axes>"
      ]
     },
     "metadata": {
      "needs_background": "light"
     },
     "output_type": "display_data"
    }
   ],
   "source": [
    "#setting the variable fig to the plot figure\n",
    "fig = plt.figure()\n",
    "\n",
    "#adding axes to the figure\n",
    "ax = fig.add_axes([0,0,1,1])\n",
    "\n",
    "#labels for the x axie\n",
    "responses = ['Under 50%', '50%-59%', '60%-69%','70%-79%','80%-89%','90%-100%']\n",
    "\n",
    "#adding the number for each of the bars by the data retrieved above\n",
    "rnumber = [op6,op5,op4,op3,op1,op2]\n",
    "\n",
    "#setting the bar equal to the two variables\n",
    "ax.bar(responses,rnumber)\n",
    "\n",
    "#setting y label\n",
    "ax.set_ylabel('Students That Believe Their Academic Performance Will Increase')\n",
    "\n",
    "#setting x label\n",
    "ax.set_xlabel('Grade')\n",
    "\n",
    "#set title\n",
    "ax.set_title('Student Grades vs. Increase in Academic Performance')\n",
    "\n",
    "#plot show\n",
    "plt.show()"
   ]
  },
  {
   "cell_type": "code",
   "execution_count": 355,
   "metadata": {},
   "outputs": [
    {
     "name": "stdout",
     "output_type": "stream",
     "text": [
      "26\n"
     ]
    }
   ],
   "source": [
    "#setting variable equal to zero\n",
    "Yfos = 0\n",
    "\n",
    "#loop to iterate through column question_2\n",
    "for i in range (0, len(question_2)):\n",
    "    \n",
    "    #if student is in faculty of science and believes chatgpt is reliable increase counter\n",
    "    if (question_2[i] == \"Faculty of Science\") and (question_8[i] == \"Yes - it can be used as a reliable source of information\"):\n",
    "        Yfos += 1\n",
    "print(Yfos)"
   ]
  },
  {
   "cell_type": "code",
   "execution_count": 356,
   "metadata": {},
   "outputs": [
    {
     "name": "stdout",
     "output_type": "stream",
     "text": [
      "9\n"
     ]
    }
   ],
   "source": [
    "#does same as above but a no counter\n",
    "Nfos = 0\n",
    "for i in range (0, len(question_2)):\n",
    "    if (question_2[i] == \"Faculty of Science\") and (question_8[i] == \"No - it can't be used as a reliable source of information\"):\n",
    "        Nfos += 1\n",
    "print(Nfos)"
   ]
  },
  {
   "cell_type": "code",
   "execution_count": 357,
   "metadata": {},
   "outputs": [
    {
     "name": "stdout",
     "output_type": "stream",
     "text": [
      "0\n"
     ]
    }
   ],
   "source": [
    "#same as above but a yes counter for law\n",
    "Yfol = 0\n",
    "for i in range (0, len(question_2)):\n",
    "    if (question_2[i] == \"Faculty of Law\") and (question_8[i] == \"Yes - it can be used as a reliable source of information\"):\n",
    "        Yfol += 1\n",
    "print(Yfol)"
   ]
  },
  {
   "cell_type": "code",
   "execution_count": 358,
   "metadata": {},
   "outputs": [
    {
     "name": "stdout",
     "output_type": "stream",
     "text": [
      "2\n"
     ]
    }
   ],
   "source": [
    "#same as above but a no counter for law\n",
    "Nfol = 0\n",
    "for i in range (0, len(question_2)):\n",
    "    if (question_2[i] == \"Faculty of Law\") and (question_8[i] == \"No - it can't be used as a reliable source of information\"):\n",
    "        Nfol += 1\n",
    "print(Nfol)"
   ]
  },
  {
   "cell_type": "code",
   "execution_count": 359,
   "metadata": {},
   "outputs": [
    {
     "name": "stdout",
     "output_type": "stream",
     "text": [
      "12\n"
     ]
    }
   ],
   "source": [
    "#same as above but a yes counter for business\n",
    "Yfobs = 0\n",
    "for i in range (0, len(question_2)):\n",
    "    if (question_2[i] == \"Faculty of Business Studies\") and (question_8[i] == \"Yes - it can be used as a reliable source of information\"):\n",
    "        Yfobs += 1\n",
    "print(Yfobs)"
   ]
  },
  {
   "cell_type": "code",
   "execution_count": 360,
   "metadata": {},
   "outputs": [
    {
     "name": "stdout",
     "output_type": "stream",
     "text": [
      "3\n"
     ]
    }
   ],
   "source": [
    "#same as above but a no counter for business\n",
    "Nfobs = 0\n",
    "for i in range (0, len(question_2)):\n",
    "    if (question_2[i] == \"Faculty of Business Studies\") and (question_8[i] == \"No - it can't be used as a reliable source of information\"):\n",
    "        Nfobs += 1\n",
    "print(Nfobs)"
   ]
  },
  {
   "cell_type": "code",
   "execution_count": 361,
   "metadata": {},
   "outputs": [
    {
     "name": "stdout",
     "output_type": "stream",
     "text": [
      "4\n"
     ]
    }
   ],
   "source": [
    "#same as above but a yes counter for athletics\n",
    "Yath = 0\n",
    "for i in range (0, len(question_2)):\n",
    "    if (question_2[i] == \"Athletics\") and (question_8[i] == \"Yes - it can be used as a reliable source of information\"):\n",
    "        Yath += 1\n",
    "print(Yath)"
   ]
  },
  {
   "cell_type": "code",
   "execution_count": 362,
   "metadata": {},
   "outputs": [
    {
     "name": "stdout",
     "output_type": "stream",
     "text": [
      "0\n"
     ]
    }
   ],
   "source": [
    "#same as above but a no counter for athletics \n",
    "Nath = 0\n",
    "for i in range (0, len(question_2)):\n",
    "    if (question_2[i] == \"Athletics\") and (question_8[i] == \"No - it can't be used as a reliable source of information\"):\n",
    "        Nath += 1\n",
    "print(Nath)"
   ]
  },
  {
   "cell_type": "code",
   "execution_count": 363,
   "metadata": {},
   "outputs": [
    {
     "name": "stdout",
     "output_type": "stream",
     "text": [
      "22\n"
     ]
    }
   ],
   "source": [
    "#same as above but a yes counter for eng\n",
    "Yfoe = 0\n",
    "for i in range (0, len(question_2)):\n",
    "    if (question_2[i] == \"Faculty of Engineering\") and (question_8[i] == \"Yes - it can be used as a reliable source of information\"):\n",
    "        Yfoe += 1\n",
    "print(Yfoe)"
   ]
  },
  {
   "cell_type": "code",
   "execution_count": 364,
   "metadata": {},
   "outputs": [
    {
     "name": "stdout",
     "output_type": "stream",
     "text": [
      "5\n"
     ]
    }
   ],
   "source": [
    "#same as above but a no counter for eng\n",
    "Nfoe = 0\n",
    "for i in range (0, len(question_2)):\n",
    "    if (question_2[i] == \"Faculty of Engineering\") and (question_8[i] == \"No - it can't be used as a reliable source of information\"):\n",
    "        Nfoe += 1\n",
    "print(Nfoe)"
   ]
  },
  {
   "cell_type": "code",
   "execution_count": 365,
   "metadata": {},
   "outputs": [
    {
     "name": "stdout",
     "output_type": "stream",
     "text": [
      "7\n"
     ]
    }
   ],
   "source": [
    "#same as above but a yes counter for arts\n",
    "Yfoa = 0\n",
    "for i in range (0, len(question_2)):\n",
    "    if (question_2[i] == \"Faculty of Arts\") and (question_8[i] == \"Yes - it can be used as a reliable source of information\"):\n",
    "        Yfoa += 1\n",
    "print(Yfoa)"
   ]
  },
  {
   "cell_type": "code",
   "execution_count": 366,
   "metadata": {},
   "outputs": [
    {
     "name": "stdout",
     "output_type": "stream",
     "text": [
      "5\n"
     ]
    }
   ],
   "source": [
    "#same as above but a no counter for art\n",
    "Nfoa = 0\n",
    "for i in range (0, len(question_2)):\n",
    "    if (question_2[i] == \"Faculty of Arts\") and (question_8[i] == \"No - it can't be used as a reliable source of information\"):\n",
    "        Nfoa += 1\n",
    "print(Nfoa)"
   ]
  },
  {
   "cell_type": "code",
   "execution_count": 367,
   "metadata": {},
   "outputs": [
    {
     "name": "stdout",
     "output_type": "stream",
     "text": [
      "3\n"
     ]
    }
   ],
   "source": [
    "#same as above but a yes counter for health sci \n",
    "Yfohs = 0\n",
    "for i in range (0, len(question_2)):\n",
    "    if (question_2[i] == \"Faculty of Health Sciences\") and (question_8[i] == \"Yes - it can be used as a reliable source of information\"):\n",
    "        Yfohs += 1\n",
    "print(Yfohs)"
   ]
  },
  {
   "cell_type": "code",
   "execution_count": 368,
   "metadata": {},
   "outputs": [
    {
     "name": "stdout",
     "output_type": "stream",
     "text": [
      "2\n"
     ]
    }
   ],
   "source": [
    "#same as above but a no counter for health sci\n",
    "Nfohs = 0\n",
    "for i in range (0, len(question_2)):\n",
    "    if (question_2[i] == \"Faculty of Health Sciences\") and (question_8[i] == \"No - it can't be used as a reliable source of information\"):\n",
    "        Nfohs += 1\n",
    "print(Nfohs)"
   ]
  },
  {
   "cell_type": "code",
   "execution_count": 369,
   "metadata": {},
   "outputs": [
    {
     "data": {
      "image/png": "[encoded data removed]",
      "text/plain": [
       "<Figure size 432x288 with 1 Axes>"
      ]
     },
     "metadata": {
      "needs_background": "light"
     },
     "output_type": "display_data"
    }
   ],
   "source": [
    "#chatGpt reliability vs faculty\n",
    "\n",
    "#x titles\n",
    "responses = ['Science', 'Law', 'Business   ','  Athletics','Eng', 'Arts', 'Health Sci']\n",
    "#yes bars\n",
    "YBar = [Yfos,Yfol,Yfobs,Yath,Yfoe,Yfoa,Yfohs]\n",
    "#no bars\n",
    "NBar = [Nfos,Nfol,Nfobs,Nath,Nfoe,Nfoa,Nfohs]\n",
    "\n",
    "#arranging the x axis according the number a responses\n",
    "X_axis = np.arange(len(responses))\n",
    "\n",
    "#positions and size of the bar and setting labels\n",
    "plt.bar(X_axis - 0.2, YBar, 0.4, label = 'Yes')\n",
    "plt.bar(X_axis + 0.2, NBar, 0.4, label = 'No')\n",
    "\n",
    "#setting the ticks\n",
    "plt.xticks(X_axis, responses)\n",
    "#x axis label\n",
    "plt.xlabel(\"Faculty\")\n",
    "#y axis label\n",
    "plt.ylabel(\"Number of Votes\")\n",
    "#title\n",
    "plt.title(\"ChatGPT Reliability Vs. Faculty\")\n",
    "#setting legend\n",
    "plt.legend()\n",
    "#show the graph\n",
    "plt.show()"
   ]
  },
  {
   "cell_type": "code",
   "execution_count": 370,
   "metadata": {},
   "outputs": [
    {
     "name": "stdout",
     "output_type": "stream",
     "text": [
      "8 8 8 8\n"
     ]
    }
   ],
   "source": [
    "#setting counters to 0\n",
    "op1 = 0\n",
    "op2 = 0\n",
    "op3 = 0\n",
    "op4 = 0 \n",
    "#looping through column question_9\n",
    "for i in question_9:\n",
    "    #if student selected all options increment the counters\n",
    "    if i == \"Self Learning (learning material taught by the University), Brainstorming Ideas for Various Tasks (Essays, Homework, Assignments), Completing Homework/Assignments assigned by the University, Students, in under any circumstance, should not be allowed to use ChatGPT in academia\":\n",
    "        op1 += 1\n",
    "        op2 += 1\n",
    "        op3 += 1\n",
    "        op4 += 1\n",
    "print(op1, op2, op3, op4)"
   ]
  },
  {
   "cell_type": "code",
   "execution_count": 371,
   "metadata": {},
   "outputs": [],
   "source": [
    "#same as above but for different options\n",
    "for i in question_9:\n",
    "    if i == \"Self Learning (learning material taught by the University), Brainstorming Ideas for Various Tasks (Essays, Homework, Assignments), Completing Homework/Assignments assigned by the University\":\n",
    "        op1 += 1\n",
    "        op2 += 1\n",
    "        op3 += 1"
   ]
  },
  {
   "cell_type": "code",
   "execution_count": 372,
   "metadata": {},
   "outputs": [
    {
     "name": "stdout",
     "output_type": "stream",
     "text": [
      "38 38 9\n"
     ]
    }
   ],
   "source": [
    "#same as above but different combination of options selected\n",
    "for i in question_9:\n",
    "    if i == \"Self Learning (learning material taught by the University), Brainstorming Ideas for Various Tasks (Essays, Homework, Assignments), Students, in under any circumstance, should not be allowed to use ChatGPT in academia\":\n",
    "        op1 += 1\n",
    "        op2 += 1\n",
    "        op4 += 1\n",
    "print(op1, op2, op4)"
   ]
  },
  {
   "cell_type": "code",
   "execution_count": 373,
   "metadata": {},
   "outputs": [
    {
     "name": "stdout",
     "output_type": "stream",
     "text": [
      "69 69\n"
     ]
    }
   ],
   "source": [
    "#same as above but different combination of options selected\n",
    "for i in question_9:\n",
    "    if i == \"Self Learning (learning material taught by the University), Brainstorming Ideas for Various Tasks (Essays, Homework, Assignments)\":\n",
    "        op1 += 1\n",
    "        op2 += 1\n",
    "print(op1, op2)"
   ]
  },
  {
   "cell_type": "code",
   "execution_count": 374,
   "metadata": {},
   "outputs": [
    {
     "name": "stdout",
     "output_type": "stream",
     "text": [
      "70 38\n"
     ]
    }
   ],
   "source": [
    "#same as above but different combination of options selected\n",
    "for i in question_9:\n",
    "    if i == \"Self Learning (learning material taught by the University), Completing Homework/Assignments assigned by the University\":\n",
    "        op1 += 1\n",
    "        op3 += 1\n",
    "print(op1, op3)"
   ]
  },
  {
   "cell_type": "code",
   "execution_count": 375,
   "metadata": {},
   "outputs": [
    {
     "name": "stdout",
     "output_type": "stream",
     "text": [
      "87\n"
     ]
    }
   ],
   "source": [
    "#same as above but different combination of options selected\n",
    "for i in question_9:\n",
    "    if i == \"Self Learning (learning material taught by the University)\":\n",
    "        op1 += 1\n",
    "\n",
    "print(op1)"
   ]
  },
  {
   "cell_type": "code",
   "execution_count": 376,
   "metadata": {},
   "outputs": [
    {
     "name": "stdout",
     "output_type": "stream",
     "text": [
      "77\n"
     ]
    }
   ],
   "source": [
    "#same as above but different combination of options selected\n",
    "for i in question_9:\n",
    "    if i == \"Brainstorming Ideas for Various Tasks (Essays, Homework, Assignments)\":\n",
    "        op2 += 1\n",
    "print(op2)"
   ]
  },
  {
   "cell_type": "code",
   "execution_count": 377,
   "metadata": {},
   "outputs": [
    {
     "name": "stdout",
     "output_type": "stream",
     "text": [
      "40\n"
     ]
    }
   ],
   "source": [
    "#same as above but different combination of options selected\n",
    "for i in question_9:\n",
    "    if i == \"Completing Homework/Assignments assigned by the University\":\n",
    "        op3 += 1\n",
    "print(op3)"
   ]
  },
  {
   "cell_type": "code",
   "execution_count": 378,
   "metadata": {},
   "outputs": [
    {
     "name": "stdout",
     "output_type": "stream",
     "text": [
      "12\n"
     ]
    }
   ],
   "source": [
    "#same as above but different combination of options selected\n",
    "for i in question_9:\n",
    "    if i == \"Students, in under any circumstance, should not be allowed to use ChatGPT in academia\":\n",
    "        op4 += 1\n",
    "print(op4)"
   ]
  },
  {
   "cell_type": "code",
   "execution_count": 379,
   "metadata": {},
   "outputs": [
    {
     "data": {
      "image/png": "[encoded data removed]",
      "text/plain": [
       "<Figure size 432x288 with 1 Axes>"
      ]
     },
     "metadata": {},
     "output_type": "display_data"
    }
   ],
   "source": [
    "#setting y equal to the array of all the counters\n",
    "y = np.array([op1,op2,op3,op4])\n",
    "#setting the labels \n",
    "mylabels = ['Self Learning', 'Brainstorming', 'Homework/Assignments', \"Not Allowed\"]\n",
    "#title\n",
    "plt.title('Situations in Which ChatGPT Should Be Allowed')\n",
    "#creating a pie graph using the array y\n",
    "plt.pie(y)\n",
    "#creating the legend\n",
    "plt.legend(mylabels,loc='lower center',ncol=len(mylabels))\n",
    "#show the graph\n",
    "plt.show() "
   ]
  },
  {
   "cell_type": "code",
   "execution_count": 380,
   "metadata": {},
   "outputs": [
    {
     "name": "stdout",
     "output_type": "stream",
     "text": [
      "32\n"
     ]
    }
   ],
   "source": [
    "#setting variable to 0\n",
    "op1 = 0\n",
    "#looping through column question_7\n",
    "for i in question_7:\n",
    "    #if option neutral is selected increase counter\n",
    "    if i == \"Neutral\":\n",
    "        op1 += 1\n",
    "print(op1)"
   ]
  },
  {
   "cell_type": "code",
   "execution_count": 381,
   "metadata": {},
   "outputs": [
    {
     "name": "stdout",
     "output_type": "stream",
     "text": [
      "27\n"
     ]
    }
   ],
   "source": [
    "#same as above but for option agree\n",
    "op2 = 0\n",
    "for i in question_7:\n",
    "    if i == \"Agree\":\n",
    "        op2 += 1\n",
    "print(op2)"
   ]
  },
  {
   "cell_type": "code",
   "execution_count": 382,
   "metadata": {},
   "outputs": [
    {
     "name": "stdout",
     "output_type": "stream",
     "text": [
      "16\n"
     ]
    }
   ],
   "source": [
    "#same as above but for option strongly disagree\n",
    "op3 = 0\n",
    "for i in question_7:\n",
    "    if i == \"Strongly Disagree\":\n",
    "        op3 += 1\n",
    "print(op3)"
   ]
  },
  {
   "cell_type": "code",
   "execution_count": 383,
   "metadata": {},
   "outputs": [
    {
     "name": "stdout",
     "output_type": "stream",
     "text": [
      "15\n"
     ]
    }
   ],
   "source": [
    "#same as above but for option disagree\n",
    "op4 = 0\n",
    "for i in question_7:\n",
    "    if i == \"Disagree\":\n",
    "        op4 += 1\n",
    "print(op4)"
   ]
  },
  {
   "cell_type": "code",
   "execution_count": 384,
   "metadata": {},
   "outputs": [
    {
     "name": "stdout",
     "output_type": "stream",
     "text": [
      "10\n"
     ]
    }
   ],
   "source": [
    "#same as above but for option strongly agree\n",
    "op5 = 0\n",
    "for i in question_7:\n",
    "    if i == \"Strongly Agree\":\n",
    "        op5 += 1\n",
    "print(op5)"
   ]
  },
  {
   "cell_type": "code",
   "execution_count": 385,
   "metadata": {},
   "outputs": [
    {
     "data": {
      "image/png": "[encoded data removed]",
      "text/plain": [
       "<Figure size 432x288 with 1 Axes>"
      ]
     },
     "metadata": {},
     "output_type": "display_data"
    }
   ],
   "source": [
    "#setting variable y to an array of all the counters\n",
    "y = np.array([op1,op2,op3,op4,op5])\n",
    "\n",
    "#setting all the labels to the options\n",
    "mylabels = ['Neutral', 'Agree', 'Strongly Disagree', 'Disagree', 'Strongly Agree']\n",
    "#title\n",
    "plt.title('Does ChatGPT Negatively Impact The Newer Generation')\n",
    "#creating a pie graph out of the array y\n",
    "plt.pie(y)\n",
    "#creating the legend\n",
    "plt.legend(mylabels,loc='lower center',ncol=len(mylabels))\n",
    "#showing the graph\n",
    "plt.show() "
   ]
  },
  {
   "cell_type": "code",
   "execution_count": 386,
   "metadata": {},
   "outputs": [
    {
     "name": "stdout",
     "output_type": "stream",
     "text": [
      "73\n"
     ]
    }
   ],
   "source": [
    "#setting option 1 to 0\n",
    "op1 = 0\n",
    "#for loop to go through the responses in column\n",
    "for i in question_10:\n",
    "    #if option is neutral increase counter\n",
    "    if i == \"Neutral - It depends on what the user used ChatGPT for\":\n",
    "        op1 += 1\n",
    "print(op1)"
   ]
  },
  {
   "cell_type": "code",
   "execution_count": 387,
   "metadata": {},
   "outputs": [
    {
     "name": "stdout",
     "output_type": "stream",
     "text": [
      "15\n"
     ]
    }
   ],
   "source": [
    "#\n",
    "op2 = 0\n",
    "for i in question_10:\n",
    "    if i == \"Yes - The use of ChatGPT is considered as plagiarism\":\n",
    "        op2 += 1\n",
    "print(op2)"
   ]
  },
  {
   "cell_type": "code",
   "execution_count": 388,
   "metadata": {},
   "outputs": [
    {
     "name": "stdout",
     "output_type": "stream",
     "text": [
      "12\n"
     ]
    }
   ],
   "source": [
    "op3 = 0\n",
    "for i in question_10:\n",
    "    if i == \"No - The use of ChatGPT is not considered plagiarism\":\n",
    "        op3 += 1\n",
    "print(op3)"
   ]
  },
  {
   "cell_type": "code",
   "execution_count": 389,
   "metadata": {},
   "outputs": [
    {
     "data": {
      "image/png": "[encoded data removed]",
      "text/plain": [
       "<Figure size 432x288 with 1 Axes>"
      ]
     },
     "metadata": {},
     "output_type": "display_data"
    }
   ],
   "source": [
    "y = np.array([op1,op2,op3])\n",
    "mylabels = ['Neutral', 'Yes', 'No']\n",
    "plt.title('Is ChatGPT Considered Plagarism')\n",
    "plt.pie(y)\n",
    "plt.legend(mylabels,loc='lower center',ncol=len(mylabels))\n",
    "plt.show() "
   ]
  },
  {
   "cell_type": "code",
   "execution_count": null,
   "metadata": {},
   "outputs": [],
   "source": []
  },
  {
   "cell_type": "code",
   "execution_count": null,
   "metadata": {},
   "outputs": [],
   "source": []
  },
  {
   "cell_type": "code",
   "execution_count": null,
   "metadata": {},
   "outputs": [],
   "source": []
  },
  {
   "cell_type": "code",
   "execution_count": null,
   "metadata": {},
   "outputs": [],
   "source": []
  }
 ],
 "metadata": {
  "kernelspec": {
   "display_name": "Python 3",
   "language": "python",
   "name": "python3"
  },
  "language_info": {
   "codemirror_mode": {
    "name": "ipython",
    "version": 3
   },
   "file_extension": ".py",
   "mimetype": "text/x-python",
   "name": "python",
   "nbconvert_exporter": "python",
   "pygments_lexer": "ipython3",
   "version": "3.8.5"
  }
 },
 "nbformat": 4,
 "nbformat_minor": 4
}
